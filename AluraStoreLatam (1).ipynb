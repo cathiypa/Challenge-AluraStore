{
  "nbformat": 4,
  "nbformat_minor": 0,
  "metadata": {
    "colab": {
      "provenance": []
    },
    "kernelspec": {
      "name": "python3",
      "display_name": "Python 3"
    },
    "language_info": {
      "name": "python"
    }
  },
  "cells": [
    {
      "cell_type": "markdown",
      "source": [
        "### Importación de datos\n",
        "\n"
      ],
      "metadata": {
        "id": "RhEdWd9YUR6H"
      }
    },
    {
      "cell_type": "code",
      "execution_count": 1,
      "metadata": {
        "colab": {
          "base_uri": "https://localhost:8080/",
          "height": 310
        },
        "id": "T3EvaeQ_INIL",
        "outputId": "336a1796-a4c4-451c-b711-1ba85a7205a7"
      },
      "outputs": [
        {
          "output_type": "execute_result",
          "data": {
            "text/plain": [
              "            Producto Categoría del Producto    Precio  Costo de envío  \\\n",
              "0  Asistente virtual           Electrónicos  164300.0          6900.0   \n",
              "1    Mesa de comedor                Muebles  192300.0          8400.0   \n",
              "2      Juego de mesa               Juguetes  209600.0         15900.0   \n",
              "3         Microondas      Electrodomésticos  757500.0         41000.0   \n",
              "4   Silla de oficina                Muebles  335200.0         20200.0   \n",
              "\n",
              "  Fecha de Compra         Vendedor Lugar de Compra  Calificación  \\\n",
              "0      16/01/2021      Pedro Gomez          Bogotá             4   \n",
              "1      18/05/2022  Beatriz Morales        Medellín             1   \n",
              "2      15/03/2021   Juan Fernandez       Cartagena             1   \n",
              "3      03/05/2022   Juan Fernandez            Cali             4   \n",
              "4      07/11/2020    Maria Alfonso        Medellín             5   \n",
              "\n",
              "       Método de pago  Cantidad de cuotas       lat       lon  \n",
              "0  Tarjeta de crédito                   8   4.60971 -74.08175  \n",
              "1  Tarjeta de crédito                   4   6.25184 -75.56359  \n",
              "2  Tarjeta de crédito                   1  10.39972 -75.51444  \n",
              "3               Nequi                   1   3.43722 -76.52250  \n",
              "4               Nequi                   1   6.25184 -75.56359  "
            ],
            "text/html": [
              "\n",
              "  <div id=\"df-27bfbc11-b10b-433e-86c3-492d2b47ca47\" class=\"colab-df-container\">\n",
              "    <div>\n",
              "<style scoped>\n",
              "    .dataframe tbody tr th:only-of-type {\n",
              "        vertical-align: middle;\n",
              "    }\n",
              "\n",
              "    .dataframe tbody tr th {\n",
              "        vertical-align: top;\n",
              "    }\n",
              "\n",
              "    .dataframe thead th {\n",
              "        text-align: right;\n",
              "    }\n",
              "</style>\n",
              "<table border=\"1\" class=\"dataframe\">\n",
              "  <thead>\n",
              "    <tr style=\"text-align: right;\">\n",
              "      <th></th>\n",
              "      <th>Producto</th>\n",
              "      <th>Categoría del Producto</th>\n",
              "      <th>Precio</th>\n",
              "      <th>Costo de envío</th>\n",
              "      <th>Fecha de Compra</th>\n",
              "      <th>Vendedor</th>\n",
              "      <th>Lugar de Compra</th>\n",
              "      <th>Calificación</th>\n",
              "      <th>Método de pago</th>\n",
              "      <th>Cantidad de cuotas</th>\n",
              "      <th>lat</th>\n",
              "      <th>lon</th>\n",
              "    </tr>\n",
              "  </thead>\n",
              "  <tbody>\n",
              "    <tr>\n",
              "      <th>0</th>\n",
              "      <td>Asistente virtual</td>\n",
              "      <td>Electrónicos</td>\n",
              "      <td>164300.0</td>\n",
              "      <td>6900.0</td>\n",
              "      <td>16/01/2021</td>\n",
              "      <td>Pedro Gomez</td>\n",
              "      <td>Bogotá</td>\n",
              "      <td>4</td>\n",
              "      <td>Tarjeta de crédito</td>\n",
              "      <td>8</td>\n",
              "      <td>4.60971</td>\n",
              "      <td>-74.08175</td>\n",
              "    </tr>\n",
              "    <tr>\n",
              "      <th>1</th>\n",
              "      <td>Mesa de comedor</td>\n",
              "      <td>Muebles</td>\n",
              "      <td>192300.0</td>\n",
              "      <td>8400.0</td>\n",
              "      <td>18/05/2022</td>\n",
              "      <td>Beatriz Morales</td>\n",
              "      <td>Medellín</td>\n",
              "      <td>1</td>\n",
              "      <td>Tarjeta de crédito</td>\n",
              "      <td>4</td>\n",
              "      <td>6.25184</td>\n",
              "      <td>-75.56359</td>\n",
              "    </tr>\n",
              "    <tr>\n",
              "      <th>2</th>\n",
              "      <td>Juego de mesa</td>\n",
              "      <td>Juguetes</td>\n",
              "      <td>209600.0</td>\n",
              "      <td>15900.0</td>\n",
              "      <td>15/03/2021</td>\n",
              "      <td>Juan Fernandez</td>\n",
              "      <td>Cartagena</td>\n",
              "      <td>1</td>\n",
              "      <td>Tarjeta de crédito</td>\n",
              "      <td>1</td>\n",
              "      <td>10.39972</td>\n",
              "      <td>-75.51444</td>\n",
              "    </tr>\n",
              "    <tr>\n",
              "      <th>3</th>\n",
              "      <td>Microondas</td>\n",
              "      <td>Electrodomésticos</td>\n",
              "      <td>757500.0</td>\n",
              "      <td>41000.0</td>\n",
              "      <td>03/05/2022</td>\n",
              "      <td>Juan Fernandez</td>\n",
              "      <td>Cali</td>\n",
              "      <td>4</td>\n",
              "      <td>Nequi</td>\n",
              "      <td>1</td>\n",
              "      <td>3.43722</td>\n",
              "      <td>-76.52250</td>\n",
              "    </tr>\n",
              "    <tr>\n",
              "      <th>4</th>\n",
              "      <td>Silla de oficina</td>\n",
              "      <td>Muebles</td>\n",
              "      <td>335200.0</td>\n",
              "      <td>20200.0</td>\n",
              "      <td>07/11/2020</td>\n",
              "      <td>Maria Alfonso</td>\n",
              "      <td>Medellín</td>\n",
              "      <td>5</td>\n",
              "      <td>Nequi</td>\n",
              "      <td>1</td>\n",
              "      <td>6.25184</td>\n",
              "      <td>-75.56359</td>\n",
              "    </tr>\n",
              "  </tbody>\n",
              "</table>\n",
              "</div>\n",
              "    <div class=\"colab-df-buttons\">\n",
              "\n",
              "  <div class=\"colab-df-container\">\n",
              "    <button class=\"colab-df-convert\" onclick=\"convertToInteractive('df-27bfbc11-b10b-433e-86c3-492d2b47ca47')\"\n",
              "            title=\"Convert this dataframe to an interactive table.\"\n",
              "            style=\"display:none;\">\n",
              "\n",
              "  <svg xmlns=\"http://www.w3.org/2000/svg\" height=\"24px\" viewBox=\"0 -960 960 960\">\n",
              "    <path d=\"M120-120v-720h720v720H120Zm60-500h600v-160H180v160Zm220 220h160v-160H400v160Zm0 220h160v-160H400v160ZM180-400h160v-160H180v160Zm440 0h160v-160H620v160ZM180-180h160v-160H180v160Zm440 0h160v-160H620v160Z\"/>\n",
              "  </svg>\n",
              "    </button>\n",
              "\n",
              "  <style>\n",
              "    .colab-df-container {\n",
              "      display:flex;\n",
              "      gap: 12px;\n",
              "    }\n",
              "\n",
              "    .colab-df-convert {\n",
              "      background-color: #E8F0FE;\n",
              "      border: none;\n",
              "      border-radius: 50%;\n",
              "      cursor: pointer;\n",
              "      display: none;\n",
              "      fill: #1967D2;\n",
              "      height: 32px;\n",
              "      padding: 0 0 0 0;\n",
              "      width: 32px;\n",
              "    }\n",
              "\n",
              "    .colab-df-convert:hover {\n",
              "      background-color: #E2EBFA;\n",
              "      box-shadow: 0px 1px 2px rgba(60, 64, 67, 0.3), 0px 1px 3px 1px rgba(60, 64, 67, 0.15);\n",
              "      fill: #174EA6;\n",
              "    }\n",
              "\n",
              "    .colab-df-buttons div {\n",
              "      margin-bottom: 4px;\n",
              "    }\n",
              "\n",
              "    [theme=dark] .colab-df-convert {\n",
              "      background-color: #3B4455;\n",
              "      fill: #D2E3FC;\n",
              "    }\n",
              "\n",
              "    [theme=dark] .colab-df-convert:hover {\n",
              "      background-color: #434B5C;\n",
              "      box-shadow: 0px 1px 3px 1px rgba(0, 0, 0, 0.15);\n",
              "      filter: drop-shadow(0px 1px 2px rgba(0, 0, 0, 0.3));\n",
              "      fill: #FFFFFF;\n",
              "    }\n",
              "  </style>\n",
              "\n",
              "    <script>\n",
              "      const buttonEl =\n",
              "        document.querySelector('#df-27bfbc11-b10b-433e-86c3-492d2b47ca47 button.colab-df-convert');\n",
              "      buttonEl.style.display =\n",
              "        google.colab.kernel.accessAllowed ? 'block' : 'none';\n",
              "\n",
              "      async function convertToInteractive(key) {\n",
              "        const element = document.querySelector('#df-27bfbc11-b10b-433e-86c3-492d2b47ca47');\n",
              "        const dataTable =\n",
              "          await google.colab.kernel.invokeFunction('convertToInteractive',\n",
              "                                                    [key], {});\n",
              "        if (!dataTable) return;\n",
              "\n",
              "        const docLinkHtml = 'Like what you see? Visit the ' +\n",
              "          '<a target=\"_blank\" href=https://colab.research.google.com/notebooks/data_table.ipynb>data table notebook</a>'\n",
              "          + ' to learn more about interactive tables.';\n",
              "        element.innerHTML = '';\n",
              "        dataTable['output_type'] = 'display_data';\n",
              "        await google.colab.output.renderOutput(dataTable, element);\n",
              "        const docLink = document.createElement('div');\n",
              "        docLink.innerHTML = docLinkHtml;\n",
              "        element.appendChild(docLink);\n",
              "      }\n",
              "    </script>\n",
              "  </div>\n",
              "\n",
              "\n",
              "    <div id=\"df-0aaba9c1-c89d-4d20-9034-a09b13986231\">\n",
              "      <button class=\"colab-df-quickchart\" onclick=\"quickchart('df-0aaba9c1-c89d-4d20-9034-a09b13986231')\"\n",
              "                title=\"Suggest charts\"\n",
              "                style=\"display:none;\">\n",
              "\n",
              "<svg xmlns=\"http://www.w3.org/2000/svg\" height=\"24px\"viewBox=\"0 0 24 24\"\n",
              "     width=\"24px\">\n",
              "    <g>\n",
              "        <path d=\"M19 3H5c-1.1 0-2 .9-2 2v14c0 1.1.9 2 2 2h14c1.1 0 2-.9 2-2V5c0-1.1-.9-2-2-2zM9 17H7v-7h2v7zm4 0h-2V7h2v10zm4 0h-2v-4h2v4z\"/>\n",
              "    </g>\n",
              "</svg>\n",
              "      </button>\n",
              "\n",
              "<style>\n",
              "  .colab-df-quickchart {\n",
              "      --bg-color: #E8F0FE;\n",
              "      --fill-color: #1967D2;\n",
              "      --hover-bg-color: #E2EBFA;\n",
              "      --hover-fill-color: #174EA6;\n",
              "      --disabled-fill-color: #AAA;\n",
              "      --disabled-bg-color: #DDD;\n",
              "  }\n",
              "\n",
              "  [theme=dark] .colab-df-quickchart {\n",
              "      --bg-color: #3B4455;\n",
              "      --fill-color: #D2E3FC;\n",
              "      --hover-bg-color: #434B5C;\n",
              "      --hover-fill-color: #FFFFFF;\n",
              "      --disabled-bg-color: #3B4455;\n",
              "      --disabled-fill-color: #666;\n",
              "  }\n",
              "\n",
              "  .colab-df-quickchart {\n",
              "    background-color: var(--bg-color);\n",
              "    border: none;\n",
              "    border-radius: 50%;\n",
              "    cursor: pointer;\n",
              "    display: none;\n",
              "    fill: var(--fill-color);\n",
              "    height: 32px;\n",
              "    padding: 0;\n",
              "    width: 32px;\n",
              "  }\n",
              "\n",
              "  .colab-df-quickchart:hover {\n",
              "    background-color: var(--hover-bg-color);\n",
              "    box-shadow: 0 1px 2px rgba(60, 64, 67, 0.3), 0 1px 3px 1px rgba(60, 64, 67, 0.15);\n",
              "    fill: var(--button-hover-fill-color);\n",
              "  }\n",
              "\n",
              "  .colab-df-quickchart-complete:disabled,\n",
              "  .colab-df-quickchart-complete:disabled:hover {\n",
              "    background-color: var(--disabled-bg-color);\n",
              "    fill: var(--disabled-fill-color);\n",
              "    box-shadow: none;\n",
              "  }\n",
              "\n",
              "  .colab-df-spinner {\n",
              "    border: 2px solid var(--fill-color);\n",
              "    border-color: transparent;\n",
              "    border-bottom-color: var(--fill-color);\n",
              "    animation:\n",
              "      spin 1s steps(1) infinite;\n",
              "  }\n",
              "\n",
              "  @keyframes spin {\n",
              "    0% {\n",
              "      border-color: transparent;\n",
              "      border-bottom-color: var(--fill-color);\n",
              "      border-left-color: var(--fill-color);\n",
              "    }\n",
              "    20% {\n",
              "      border-color: transparent;\n",
              "      border-left-color: var(--fill-color);\n",
              "      border-top-color: var(--fill-color);\n",
              "    }\n",
              "    30% {\n",
              "      border-color: transparent;\n",
              "      border-left-color: var(--fill-color);\n",
              "      border-top-color: var(--fill-color);\n",
              "      border-right-color: var(--fill-color);\n",
              "    }\n",
              "    40% {\n",
              "      border-color: transparent;\n",
              "      border-right-color: var(--fill-color);\n",
              "      border-top-color: var(--fill-color);\n",
              "    }\n",
              "    60% {\n",
              "      border-color: transparent;\n",
              "      border-right-color: var(--fill-color);\n",
              "    }\n",
              "    80% {\n",
              "      border-color: transparent;\n",
              "      border-right-color: var(--fill-color);\n",
              "      border-bottom-color: var(--fill-color);\n",
              "    }\n",
              "    90% {\n",
              "      border-color: transparent;\n",
              "      border-bottom-color: var(--fill-color);\n",
              "    }\n",
              "  }\n",
              "</style>\n",
              "\n",
              "      <script>\n",
              "        async function quickchart(key) {\n",
              "          const quickchartButtonEl =\n",
              "            document.querySelector('#' + key + ' button');\n",
              "          quickchartButtonEl.disabled = true;  // To prevent multiple clicks.\n",
              "          quickchartButtonEl.classList.add('colab-df-spinner');\n",
              "          try {\n",
              "            const charts = await google.colab.kernel.invokeFunction(\n",
              "                'suggestCharts', [key], {});\n",
              "          } catch (error) {\n",
              "            console.error('Error during call to suggestCharts:', error);\n",
              "          }\n",
              "          quickchartButtonEl.classList.remove('colab-df-spinner');\n",
              "          quickchartButtonEl.classList.add('colab-df-quickchart-complete');\n",
              "        }\n",
              "        (() => {\n",
              "          let quickchartButtonEl =\n",
              "            document.querySelector('#df-0aaba9c1-c89d-4d20-9034-a09b13986231 button');\n",
              "          quickchartButtonEl.style.display =\n",
              "            google.colab.kernel.accessAllowed ? 'block' : 'none';\n",
              "        })();\n",
              "      </script>\n",
              "    </div>\n",
              "\n",
              "    </div>\n",
              "  </div>\n"
            ],
            "application/vnd.google.colaboratory.intrinsic+json": {
              "type": "dataframe",
              "variable_name": "tienda",
              "summary": "{\n  \"name\": \"tienda\",\n  \"rows\": 2359,\n  \"fields\": [\n    {\n      \"column\": \"Producto\",\n      \"properties\": {\n        \"dtype\": \"category\",\n        \"num_unique_values\": 51,\n        \"samples\": [\n          \"Guitarra ac\\u00fastica\",\n          \"Bal\\u00f3n de baloncesto\",\n          \"Smartwatch\"\n        ],\n        \"semantic_type\": \"\",\n        \"description\": \"\"\n      }\n    },\n    {\n      \"column\": \"Categor\\u00eda del Producto\",\n      \"properties\": {\n        \"dtype\": \"category\",\n        \"num_unique_values\": 8,\n        \"samples\": [\n          \"Muebles\",\n          \"Deportes y diversi\\u00f3n\",\n          \"Electr\\u00f3nicos\"\n        ],\n        \"semantic_type\": \"\",\n        \"description\": \"\"\n      }\n    },\n    {\n      \"column\": \"Precio\",\n      \"properties\": {\n        \"dtype\": \"number\",\n        \"std\": 614686.7653873172,\n        \"min\": 7600.0,\n        \"max\": 2977000.0,\n        \"num_unique_values\": 1937,\n        \"samples\": [\n          2499400.0,\n          14800.0,\n          80500.0\n        ],\n        \"semantic_type\": \"\",\n        \"description\": \"\"\n      }\n    },\n    {\n      \"column\": \"Costo de env\\u00edo\",\n      \"properties\": {\n        \"dtype\": \"number\",\n        \"std\": 32860.0017825605,\n        \"min\": 0.0,\n        \"max\": 160800.0,\n        \"num_unique_values\": 753,\n        \"samples\": [\n          117800.0,\n          54700.0,\n          45600.0\n        ],\n        \"semantic_type\": \"\",\n        \"description\": \"\"\n      }\n    },\n    {\n      \"column\": \"Fecha de Compra\",\n      \"properties\": {\n        \"dtype\": \"object\",\n        \"num_unique_values\": 1018,\n        \"samples\": [\n          \"15/09/2022\",\n          \"03/06/2020\",\n          \"06/11/2021\"\n        ],\n        \"semantic_type\": \"\",\n        \"description\": \"\"\n      }\n    },\n    {\n      \"column\": \"Vendedor\",\n      \"properties\": {\n        \"dtype\": \"category\",\n        \"num_unique_values\": 14,\n        \"samples\": [\n          \"Juliana Costa\",\n          \"Mariana Herrera\",\n          \"Pedro Gomez\"\n        ],\n        \"semantic_type\": \"\",\n        \"description\": \"\"\n      }\n    },\n    {\n      \"column\": \"Lugar de Compra\",\n      \"properties\": {\n        \"dtype\": \"category\",\n        \"num_unique_values\": 19,\n        \"samples\": [\n          \"Bogot\\u00e1\",\n          \"Pereira\",\n          \"Neiva\"\n        ],\n        \"semantic_type\": \"\",\n        \"description\": \"\"\n      }\n    },\n    {\n      \"column\": \"Calificaci\\u00f3n\",\n      \"properties\": {\n        \"dtype\": \"number\",\n        \"std\": 1,\n        \"min\": 1,\n        \"max\": 5,\n        \"num_unique_values\": 5,\n        \"samples\": [\n          1,\n          2,\n          5\n        ],\n        \"semantic_type\": \"\",\n        \"description\": \"\"\n      }\n    },\n    {\n      \"column\": \"M\\u00e9todo de pago\",\n      \"properties\": {\n        \"dtype\": \"category\",\n        \"num_unique_values\": 4,\n        \"samples\": [\n          \"Nequi\",\n          \"Tarjeta de d\\u00e9bito\",\n          \"Tarjeta de cr\\u00e9dito\"\n        ],\n        \"semantic_type\": \"\",\n        \"description\": \"\"\n      }\n    },\n    {\n      \"column\": \"Cantidad de cuotas\",\n      \"properties\": {\n        \"dtype\": \"number\",\n        \"std\": 2,\n        \"min\": 1,\n        \"max\": 24,\n        \"num_unique_values\": 15,\n        \"samples\": [\n          7,\n          14,\n          8\n        ],\n        \"semantic_type\": \"\",\n        \"description\": \"\"\n      }\n    },\n    {\n      \"column\": \"lat\",\n      \"properties\": {\n        \"dtype\": \"number\",\n        \"std\": 2.2874452492678627,\n        \"min\": -4.21528,\n        \"max\": 11.54444,\n        \"num_unique_values\": 19,\n        \"samples\": [\n          4.60971,\n          4.81333,\n          2.9273\n        ],\n        \"semantic_type\": \"\",\n        \"description\": \"\"\n      }\n    },\n    {\n      \"column\": \"lon\",\n      \"properties\": {\n        \"dtype\": \"number\",\n        \"std\": 1.2178272727088486,\n        \"min\": -77.28111,\n        \"max\": -67.9239,\n        \"num_unique_values\": 19,\n        \"samples\": [\n          -74.08175,\n          -75.69611,\n          -75.28189\n        ],\n        \"semantic_type\": \"\",\n        \"description\": \"\"\n      }\n    }\n  ]\n}"
            }
          },
          "metadata": {},
          "execution_count": 1
        }
      ],
      "source": [
        "import pandas as pd\n",
        "\n",
        "url = \"https://raw.githubusercontent.com/alura-es-cursos/challenge1-data-science-latam/refs/heads/main/base-de-datos-challenge1-latam/tienda_1%20.csv\"\n",
        "url2 = \"https://raw.githubusercontent.com/alura-es-cursos/challenge1-data-science-latam/refs/heads/main/base-de-datos-challenge1-latam/tienda_2.csv\"\n",
        "url3 = \"https://raw.githubusercontent.com/alura-es-cursos/challenge1-data-science-latam/refs/heads/main/base-de-datos-challenge1-latam/tienda_3.csv\"\n",
        "url4 = \"https://raw.githubusercontent.com/alura-es-cursos/challenge1-data-science-latam/refs/heads/main/base-de-datos-challenge1-latam/tienda_4.csv\"\n",
        "\n",
        "tienda = pd.read_csv(url)\n",
        "tienda2 = pd.read_csv(url2)\n",
        "tienda3 = pd.read_csv(url3)\n",
        "tienda4 = pd.read_csv(url4)\n",
        "\n",
        "tienda.head()"
      ]
    },
    {
      "cell_type": "markdown",
      "source": [
        "#1. Análisis de facturación\n",
        "\n"
      ],
      "metadata": {
        "id": "X62IW3KFUIYm"
      }
    },
    {
      "cell_type": "code",
      "source": [
        "# Ingresos por cada tienda individual\n",
        "ingreso_t1 = tienda[\"Precio\"].sum()\n",
        "ingreso_t2 = tienda2[\"Precio\"].sum()\n",
        "ingreso_t3 = tienda3[\"Precio\"].sum()\n",
        "ingreso_t4 = tienda4[\"Precio\"].sum()\n",
        "\n",
        "print(\"Ingresos Tienda 1:\", ingreso_t1)\n",
        "print(\"Ingresos Tienda 2:\", ingreso_t2)\n",
        "print(\"Ingresos Tienda 3:\", ingreso_t3)\n",
        "print(\"Ingresos Tienda 4:\", ingreso_t4)"
      ],
      "metadata": {
        "colab": {
          "base_uri": "https://localhost:8080/"
        },
        "id": "wR-jO2grybEo",
        "outputId": "3fcf299d-ba8e-44be-9e1e-3bab9170cc4d"
      },
      "execution_count": 2,
      "outputs": [
        {
          "output_type": "stream",
          "name": "stdout",
          "text": [
            "Ingresos Tienda 1: 1150880400.0\n",
            "Ingresos Tienda 2: 1116343500.0\n",
            "Ingresos Tienda 3: 1098019600.0\n",
            "Ingresos Tienda 4: 1038375700.0\n"
          ]
        }
      ]
    },
    {
      "cell_type": "code",
      "source": [
        "# DataFrame para graficar:\n",
        "ingresos = pd.DataFrame({\n",
        "    \"Tienda\": [\"Tienda 1\", \"Tienda 2\", \"Tienda 3\", \"Tienda 4\"],\n",
        "    \"Ingresos\": [ingreso_t1, ingreso_t2, ingreso_t3, ingreso_t4]\n",
        "})"
      ],
      "metadata": {
        "id": "GFzGAyzs8yYy"
      },
      "execution_count": 25,
      "outputs": []
    },
    {
      "cell_type": "markdown",
      "source": [
        "# 2. Ventas por categoría"
      ],
      "metadata": {
        "id": "2V_vcAPzWZmR"
      }
    },
    {
      "cell_type": "code",
      "source": [
        "# Cantidad de productos vendidos por categoría en cada tienda\n",
        "ventas_t1 = tienda.groupby(\"Categoría del Producto\")[\"Producto\"].count().sort_values(ascending=False)\n",
        "ventas_t2 = tienda2.groupby(\"Categoría del Producto\")[\"Producto\"].count().sort_values(ascending=False)\n",
        "ventas_t3 = tienda3.groupby(\"Categoría del Producto\")[\"Producto\"].count().sort_values(ascending=False)\n",
        "ventas_t4 = tienda4.groupby(\"Categoría del Producto\")[\"Producto\"].count().sort_values(ascending=False)\n",
        "\n",
        "print(\" Tienda 1:\\n\", ventas_t1, \"\\n\")\n",
        "print(\" Tienda 2:\\n\", ventas_t2, \"\\n\")\n",
        "print(\" Tienda 3:\\n\", ventas_t3, \"\\n\")\n",
        "print(\" Tienda 4:\\n\", ventas_t4, \"\\n\")\n"
      ],
      "metadata": {
        "id": "A34YupIuYhfF",
        "colab": {
          "base_uri": "https://localhost:8080/"
        },
        "outputId": "741f416f-73e5-4521-b5dd-3fb0d2d481a3"
      },
      "execution_count": 8,
      "outputs": [
        {
          "output_type": "stream",
          "name": "stdout",
          "text": [
            " Tienda 1:\n",
            " Categoría del Producto\n",
            "Muebles                    465\n",
            "Electrónicos               448\n",
            "Juguetes                   324\n",
            "Electrodomésticos          312\n",
            "Deportes y diversión       284\n",
            "Instrumentos musicales     182\n",
            "Libros                     173\n",
            "Artículos para el hogar    171\n",
            "Name: Producto, dtype: int64 \n",
            "\n",
            " Tienda 2:\n",
            " Categoría del Producto\n",
            "Muebles                    442\n",
            "Electrónicos               422\n",
            "Juguetes                   313\n",
            "Electrodomésticos          305\n",
            "Deportes y diversión       275\n",
            "Instrumentos musicales     224\n",
            "Libros                     197\n",
            "Artículos para el hogar    181\n",
            "Name: Producto, dtype: int64 \n",
            "\n",
            " Tienda 3:\n",
            " Categoría del Producto\n",
            "Muebles                    499\n",
            "Electrónicos               451\n",
            "Juguetes                   315\n",
            "Electrodomésticos          278\n",
            "Deportes y diversión       277\n",
            "Libros                     185\n",
            "Artículos para el hogar    177\n",
            "Instrumentos musicales     177\n",
            "Name: Producto, dtype: int64 \n",
            "\n",
            " Tienda 4:\n",
            " Categoría del Producto\n",
            "Muebles                    480\n",
            "Electrónicos               451\n",
            "Juguetes                   338\n",
            "Deportes y diversión       277\n",
            "Electrodomésticos          254\n",
            "Artículos para el hogar    201\n",
            "Libros                     187\n",
            "Instrumentos musicales     170\n",
            "Name: Producto, dtype: int64 \n",
            "\n"
          ]
        }
      ]
    },
    {
      "cell_type": "code",
      "source": [],
      "metadata": {
        "id": "yZR6cOjXYSk1"
      },
      "execution_count": 1,
      "outputs": []
    },
    {
      "cell_type": "markdown",
      "source": [
        "# 3. Calificación promedio de la tienda\n"
      ],
      "metadata": {
        "id": "Rq6tU_xSY3jk"
      }
    },
    {
      "cell_type": "code",
      "source": [
        "# Calificación promedio por tienda\n",
        "calificacion_t1 = tienda[\"Calificación\"].mean()\n",
        "calificacion_t2 = tienda2[\"Calificación\"].mean()\n",
        "calificacion_t3 = tienda3[\"Calificación\"].mean()\n",
        "calificacion_t4 = tienda4[\"Calificación\"].mean()\n",
        "\n",
        "print(\" Promedio Tienda 1:\", round(calificacion_t1, 2))\n",
        "print(\" Promedio Tienda 2:\", round(calificacion_t2, 2))\n",
        "print(\" Promedio Tienda 3:\", round(calificacion_t3, 2))\n",
        "print(\" Promedio Tienda 4:\", round(calificacion_t4, 2))\n"
      ],
      "metadata": {
        "colab": {
          "base_uri": "https://localhost:8080/"
        },
        "id": "rEI6Awyx1Yuv",
        "outputId": "a78c671b-03ac-4f99-8eef-0933df4309c5"
      },
      "execution_count": 7,
      "outputs": [
        {
          "output_type": "stream",
          "name": "stdout",
          "text": [
            " Promedio Tienda 1: 3.98\n",
            " Promedio Tienda 2: 4.04\n",
            " Promedio Tienda 3: 4.05\n",
            " Promedio Tienda 4: 4.0\n"
          ]
        }
      ]
    },
    {
      "cell_type": "code",
      "source": [
        "# Resumen en un DataFrame\n",
        "calificaciones = pd.DataFrame({\n",
        "    \"Tienda\": [\"Tienda 1\", \"Tienda 2\", \"Tienda 3\", \"Tienda 4\"],\n",
        "    \"Calificación Promedio\": [calificacion_t1, calificacion_t2, calificacion_t3, calificacion_t4]\n",
        "})\n",
        "\n",
        "print(calificaciones)\n"
      ],
      "metadata": {
        "id": "bh3jjjJwY5MU",
        "colab": {
          "base_uri": "https://localhost:8080/"
        },
        "outputId": "91b309fc-aa32-4338-faf5-d914472222c2"
      },
      "execution_count": 9,
      "outputs": [
        {
          "output_type": "stream",
          "name": "stdout",
          "text": [
            "     Tienda  Calificación Promedio\n",
            "0  Tienda 1               3.976685\n",
            "1  Tienda 2               4.037304\n",
            "2  Tienda 3               4.048326\n",
            "3  Tienda 4               3.995759\n"
          ]
        }
      ]
    },
    {
      "cell_type": "code",
      "source": [],
      "metadata": {
        "id": "I0KkjPoTY88F"
      },
      "execution_count": 1,
      "outputs": []
    },
    {
      "cell_type": "markdown",
      "source": [
        "# 4. Productos más y menos vendidos"
      ],
      "metadata": {
        "id": "DmNp1KPBZCm-"
      }
    },
    {
      "cell_type": "code",
      "source": [
        "# Más y menos vendidos por tienda\n",
        "productos_t1 = tienda.groupby(\"Producto\")[\"Producto\"].count().sort_values(ascending=False)\n",
        "productos_t2 = tienda2.groupby(\"Producto\")[\"Producto\"].count().sort_values(ascending=False)\n",
        "productos_t3 = tienda3.groupby(\"Producto\")[\"Producto\"].count().sort_values(ascending=False)\n",
        "productos_t4 = tienda4.groupby(\"Producto\")[\"Producto\"].count().sort_values(ascending=False)\n",
        "\n",
        "\n"
      ],
      "metadata": {
        "id": "0Sw3sd4IZIGW"
      },
      "execution_count": 13,
      "outputs": []
    },
    {
      "cell_type": "code",
      "source": [
        "print(\" Tienda 1 - Más vendidos:\\n\", productos_t1.head(5), \"\\n\")\n",
        "print(\" Tienda 1 - Menos vendidos:\\n\", productos_t1.tail(5), \"\\n\")"
      ],
      "metadata": {
        "colab": {
          "base_uri": "https://localhost:8080/"
        },
        "id": "-8naMoeY3TTD",
        "outputId": "6efcbcfd-1621-4b2f-b468-8a916141d2f1"
      },
      "execution_count": 12,
      "outputs": [
        {
          "output_type": "stream",
          "name": "stdout",
          "text": [
            " Tienda 1 - Más vendidos:\n",
            " Producto\n",
            "Armario             60\n",
            "TV LED UHD 4K       60\n",
            "Microondas          60\n",
            "Secadora de ropa    58\n",
            "Mesa de noche       56\n",
            "Name: Producto, dtype: int64 \n",
            "\n",
            " Tienda 1 - Menos vendidos:\n",
            " Producto\n",
            "Mochila                      39\n",
            "Pandereta                    36\n",
            "Olla de presión              35\n",
            "Celular ABXY                 33\n",
            "Auriculares con micrófono    33\n",
            "Name: Producto, dtype: int64 \n",
            "\n"
          ]
        }
      ]
    },
    {
      "cell_type": "code",
      "source": [
        "print(\" Tienda 2 - Más vendidos:\\n\", productos_t2.head(5), \"\\n\")\n",
        "print(\" Tienda 2 - Menos vendidos:\\n\", productos_t2.tail(5), \"\\n\")"
      ],
      "metadata": {
        "colab": {
          "base_uri": "https://localhost:8080/"
        },
        "id": "yiaKC-WU3ovO",
        "outputId": "7799434f-5aeb-4011-c721-2cb7d769b2db"
      },
      "execution_count": 14,
      "outputs": [
        {
          "output_type": "stream",
          "name": "stdout",
          "text": [
            " Tienda 2 - Más vendidos:\n",
            " Producto\n",
            "Iniciando en programación    65\n",
            "Microondas                   62\n",
            "Batería                      61\n",
            "Pandereta                    58\n",
            "Guitarra acústica            58\n",
            "Name: Producto, dtype: int64 \n",
            "\n",
            " Tienda 2 - Menos vendidos:\n",
            " Producto\n",
            "Auriculares        37\n",
            "Sillón             35\n",
            "Impresora          34\n",
            "Mesa de comedor    34\n",
            "Juego de mesa      32\n",
            "Name: Producto, dtype: int64 \n",
            "\n"
          ]
        }
      ]
    },
    {
      "cell_type": "code",
      "source": [
        "print(\" Tienda 3 - Más vendidos:\\n\", productos_t3.head(5), \"\\n\")\n",
        "print(\" Tienda 3 - Menos vendidos:\\n\", productos_t3.tail(5), \"\\n\")"
      ],
      "metadata": {
        "colab": {
          "base_uri": "https://localhost:8080/"
        },
        "id": "eUxQ8YN43u8Z",
        "outputId": "0b6d282e-cff3-4a6d-d7ab-a05a3c1afd92"
      },
      "execution_count": 15,
      "outputs": [
        {
          "output_type": "stream",
          "name": "stdout",
          "text": [
            " Tienda 3 - Más vendidos:\n",
            " Producto\n",
            "Kit de bancas      57\n",
            "Mesa de comedor    56\n",
            "Cama king          56\n",
            "Set de ollas       55\n",
            "Mesa de noche      55\n",
            "Name: Producto, dtype: int64 \n",
            "\n",
            " Tienda 3 - Menos vendidos:\n",
            " Producto\n",
            "Guitarra eléctrica         38\n",
            "Mochila                    36\n",
            "Microondas                 36\n",
            "Set de vasos               36\n",
            "Bloques de construcción    35\n",
            "Name: Producto, dtype: int64 \n",
            "\n"
          ]
        }
      ]
    },
    {
      "cell_type": "code",
      "source": [
        "print(\" Tienda 4 - Más vendidos:\\n\", productos_t4.head(5), \"\\n\")\n",
        "print(\" Tienda 4 - Menos vendidos:\\n\", productos_t4.tail(5), \"\\n\")"
      ],
      "metadata": {
        "colab": {
          "base_uri": "https://localhost:8080/"
        },
        "id": "lk_j0zWW3iYU",
        "outputId": "eb01741d-b13b-4a37-8cb7-b791eed638c8"
      },
      "execution_count": 16,
      "outputs": [
        {
          "output_type": "stream",
          "name": "stdout",
          "text": [
            " Tienda 4 - Más vendidos:\n",
            " Producto\n",
            "Cama box                     62\n",
            "Cubertería                   59\n",
            "Cama king                    56\n",
            "Dashboards con Power BI      56\n",
            "Carrito de control remoto    55\n",
            "Name: Producto, dtype: int64 \n",
            "\n",
            " Tienda 4 - Menos vendidos:\n",
            " Producto\n",
            "Ciencia de datos con Python    38\n",
            "Refrigerador                   38\n",
            "Guitarra acústica              37\n",
            "Armario                        34\n",
            "Guitarra eléctrica             33\n",
            "Name: Producto, dtype: int64 \n",
            "\n"
          ]
        }
      ]
    },
    {
      "cell_type": "markdown",
      "source": [
        "# 5. Envío promedio por tienda"
      ],
      "metadata": {
        "id": "Fl0cGi3bZKqU"
      }
    },
    {
      "cell_type": "code",
      "source": [
        "# Promedio de costo de envío por tienda\n",
        "envio_t1 = tienda[\"Costo de envío\"].mean()\n",
        "envio_t2 = tienda2[\"Costo de envío\"].mean()\n",
        "envio_t3 = tienda3[\"Costo de envío\"].mean()\n",
        "envio_t4 = tienda4[\"Costo de envío\"].mean()\n",
        "\n",
        "print(\" Promedio Envío Tienda 1:\", round(envio_t1, 2))\n",
        "print(\" Promedio Envío Tienda 2:\", round(envio_t2, 2))\n",
        "print(\" Promedio Envío Tienda 3:\", round(envio_t3, 2))\n",
        "print(\" Promedio Envío Tienda 4:\", round(envio_t4, 2))"
      ],
      "metadata": {
        "id": "S2JeaCykZNy9",
        "colab": {
          "base_uri": "https://localhost:8080/"
        },
        "outputId": "13b7d3f4-4636-4224-dbfa-54e4db11ba05"
      },
      "execution_count": 18,
      "outputs": [
        {
          "output_type": "stream",
          "name": "stdout",
          "text": [
            " Promedio Envío Tienda 1: 26018.61\n",
            " Promedio Envío Tienda 2: 25216.24\n",
            " Promedio Envío Tienda 3: 24805.68\n",
            " Promedio Envío Tienda 4: 23459.46\n"
          ]
        }
      ]
    },
    {
      "cell_type": "code",
      "source": [
        "# DataFrame resumen\n",
        "envios = pd.DataFrame({\n",
        "    \"Tienda\": [\"Tienda 1\", \"Tienda 2\", \"Tienda 3\", \"Tienda 4\"],\n",
        "    \"Costo de envío promedio\": [envio_t1, envio_t2, envio_t3, envio_t4]\n",
        "})"
      ],
      "metadata": {
        "id": "CHKaGChH9wlF"
      },
      "execution_count": 27,
      "outputs": []
    },
    {
      "cell_type": "markdown",
      "source": [
        "#Gráficos"
      ],
      "metadata": {
        "id": "tfgCjolI5Qkg"
      }
    },
    {
      "cell_type": "code",
      "source": [
        "import matplotlib.pyplot as plt"
      ],
      "metadata": {
        "id": "0tSdCie9ZQlt"
      },
      "execution_count": 19,
      "outputs": []
    },
    {
      "cell_type": "code",
      "source": [
        "plt.bar(ingresos[\"Tienda\"], ingresos[\"Ingresos\"], color=\"skyblue\")\n",
        "plt.title(\"Ingresos totales por tienda\")\n",
        "plt.ylabel(\"Ingresos ($)\")\n",
        "plt.xlabel(\"Tienda\")\n",
        "plt.show()\n"
      ],
      "metadata": {
        "colab": {
          "base_uri": "https://localhost:8080/",
          "height": 472
        },
        "id": "rHf-5Zvw8OwY",
        "outputId": "8c2575ee-76e2-4377-8f8c-0495fa81b318"
      },
      "execution_count": 26,
      "outputs": [
        {
          "output_type": "display_data",
          "data": {
            "text/plain": [
              "<Figure size 640x480 with 1 Axes>"
            ],
            "image/png": "[encoded data removed]"
          },
          "metadata": {}
        }
      ]
    },
    {
      "cell_type": "code",
      "source": [
        "#Gráficos de ventas por categoria para cada tienda\n",
        "fig, axs = plt.subplots(2, 2, figsize=(12,8))\n",
        "\n",
        "# Tienda 1\n",
        "ventas_t1.plot(kind=\"bar\", ax=axs[0,0], color=\"skyblue\", title=\"Tienda 1 - Ventas por categoría\")\n",
        "\n",
        "# Tienda 2\n",
        "ventas_t2.plot(kind=\"bar\", ax=axs[0,1], color=\"salmon\", title=\"Tienda 2 - Ventas por categoría\")\n",
        "\n",
        "# Tienda 3\n",
        "ventas_t3.plot(kind=\"bar\", ax=axs[1,0], color=\"lightgreen\", title=\"Tienda 3 - Ventas por categoría\")\n",
        "\n",
        "# Tienda 4\n",
        "ventas_t4.plot(kind=\"bar\", ax=axs[1,1], color=\"orange\", title=\"Tienda 4 - Ventas por categoría\")\n",
        "\n",
        "plt.tight_layout()\n",
        "plt.show()\n"
      ],
      "metadata": {
        "colab": {
          "base_uri": "https://localhost:8080/",
          "height": 807
        },
        "id": "2pqtWX4z6Xno",
        "outputId": "0790dc3b-2ff4-425c-a79b-c073b827daeb"
      },
      "execution_count": 22,
      "outputs": [
        {
          "output_type": "display_data",
          "data": {
            "text/plain": [
              "<Figure size 1200x800 with 4 Axes>"
            ],
            "image/png": "[encoded data removed]"
          },
          "metadata": {}
        }
      ]
    },
    {
      "cell_type": "code",
      "source": [
        "#Calificación Promedio de clientes por tienda\n",
        "plt.barh(calificaciones[\"Tienda\"], calificaciones[\"Calificación Promedio\"], color=\"gold\")\n",
        "plt.title(\"Calificación promedio de clientes por tienda\")\n",
        "plt.xlabel(\"Calificación promedio (1 a 5)\")\n",
        "plt.xlim(0, 5)  # Escala de 0 a 5\n",
        "plt.show()"
      ],
      "metadata": {
        "colab": {
          "base_uri": "https://localhost:8080/",
          "height": 473
        },
        "id": "nje7Ljwn6gPN",
        "outputId": "c6f9c6a5-4107-445f-9972-7bce6ebe4856"
      },
      "execution_count": 23,
      "outputs": [
        {
          "output_type": "display_data",
          "data": {
            "text/plain": [
              "<Figure size 640x480 with 1 Axes>"
            ],
            "image/png": "[encoded data removed]"
          },
          "metadata": {}
        }
      ]
    },
    {
      "cell_type": "code",
      "source": [
        "plt.bar(envios[\"Tienda\"], envios[\"Costo de envío promedio\"], color=\"mediumslateblue\")\n",
        "plt.title(\"Costo de envío promedio por tienda\")\n",
        "plt.ylabel(\"Costo de envío ($)\")\n",
        "plt.xlabel(\"Tienda\")\n",
        "\n",
        "# Mostrar valores encima de cada barra\n",
        "for i, v in enumerate(envios[\"Costo de envío promedio\"]):\n",
        "    plt.text(i, v + 0.05, str(round(v,2)), ha='center')\n",
        "\n",
        "plt.show()\n"
      ],
      "metadata": {
        "colab": {
          "base_uri": "https://localhost:8080/",
          "height": 472
        },
        "id": "9hZH-B5R9HT3",
        "outputId": "f0f22420-543e-47f8-c3d0-1bacee81b4d6"
      },
      "execution_count": 28,
      "outputs": [
        {
          "output_type": "display_data",
          "data": {
            "text/plain": [
              "<Figure size 640x480 with 1 Axes>"
            ],
            "image/png": "[encoded data removed]"
          },
          "metadata": {}
        }
      ]
    },
    {
      "cell_type": "markdown",
      "source": [
        "#Informe Final - Análisis de tiendas Alura Store"
      ],
      "metadata": {
        "id": "LVpB0plRA3Lg"
      }
    },
    {
      "cell_type": "markdown",
      "source": [
        "El Sr. Juan desea iniciar un nuevo emprendimiento y, para ello, debe vender una de las cuatro tiendas de la cadena Alura Store.\n",
        "El objetivo de este análisis fue identificar la tienda menos eficiente considerando: ingresos, sastifacción del cliente, diversidad de productos y costos de envío.\n",
        "Se utilizaron gráficos y métricas clave para sustentar la recomendación final.\n",
        "\n",
        "**1. Ingresos totales**\n",
        "\n",
        "\n",
        "*   La **Tienda 4** presenta los **ingresos más bajos**: 1.038.375.700.\n",
        "*   La tiendaa 1 es la mas rentable con 1.150.880.400.\n",
        "\n",
        "**2. Categorías de productos más y menos vendidad**\n",
        "\n",
        "\n",
        "*   Todas las tiendas tienen como categoría más vendida **Muebles.**\n",
        "*   La categoría menos vendida en general es** Instrumentos musicales.**\n",
        "* La tienda 4 muestra ventas más bajas en varias categorías clave comparada con las demás, lo que indica menor diversidad y potencial de ventas.\n",
        "\n",
        "**3. Calificacíon promedio de clientes**\n",
        "* Tienda 3: 4.05\n",
        "* Tienda 2: 4.04\n",
        "* Tienda 4: 4.00\n",
        "* Tienda 1: 3.98\n",
        "* La tienda 4 tiene calificaciones buenas pero no destaca frente a las otras tiendas mas eficientes.\n",
        "\n",
        "**4. Costo de envío promedio**\n",
        "* La tienda 4 tiene el **costo de envío más bajo**: 23.459,46 lo que podria ser positivo para clientes pero no compensa su menor volumen de ventas.\n",
        "* Las demás tiendas presentan costos más altos pero mayores ingresos.\n",
        "\n",
        "Tras analizar todas las métricas, se recomienda que el **Sr. Juan venda la Tienda 4.**\n",
        "\n",
        "**Justificación:**\n",
        "\n",
        "* Ingresos más bajos.\n",
        "* Ventas más bajas por categoria, mostrando menor diversidad y potencial de crecimiento.\n",
        "* Calificación promedio decente, pero no suficiente.\n",
        "* Costo de envío promedio más bajo. lo que ayuda, pero no es determinante frente a la menor facturación.\n",
        "\n",
        "En contraste, las demás tiendas mantienen mayor rentabilidad, diversidad de productos y buena califiacion de clientes, por lo que conviene conservarlas dentro del negocio.\n",
        "\n",
        "\n",
        "\n",
        "\n",
        "\n",
        "\n",
        "\n"
      ],
      "metadata": {
        "id": "Q6Aibp37BMmH"
      }
    },
    {
      "cell_type": "code",
      "source": [],
      "metadata": {
        "id": "OKLky98jJbpi"
      },
      "execution_count": null,
      "outputs": []
    }
  ]
}